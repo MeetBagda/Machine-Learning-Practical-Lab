{
 "cells": [
  {
   "cell_type": "markdown",
   "id": "e21f6e28",
   "metadata": {},
   "source": [
    "# Building Neural Network using PyTorch"
   ]
  },
  {
   "cell_type": "code",
   "execution_count": 2,
   "id": "5f705184",
   "metadata": {},
   "outputs": [],
   "source": [
    "import torch\n",
    "import torch.nn as nn\n",
    "import torch.nn.functional as F\n",
    "import torch.optim as optim\n",
    "from torchvision import datasets, transforms\n",
    "import matplotlib.pyplot as plt\n",
    "import numpy as np"
   ]
  },
  {
   "cell_type": "code",
   "execution_count": 3,
   "id": "0f72074a",
   "metadata": {},
   "outputs": [],
   "source": [
    "batch_size = 64\n",
    "num_epochs = 10\n",
    "learning_rate = 0.01\n",
    "\n",
    "transform = transforms.Compose([\n",
    "    transforms.ToTensor(),\n",
    "    transforms.Normalize((0.1307,), (0.3081,))  # Mean and Std of MNIST dataset\n",
    "])"
   ]
  },
  {
   "cell_type": "code",
   "execution_count": 4,
   "id": "c29573ec",
   "metadata": {},
   "outputs": [],
   "source": [
    "train_dataset = datasets.MNIST(root='.', train=True, download=True, transform=transform)\n",
    "test_dataset = datasets.MNIST(root='.', train=False, download=True, transform=transform)\n",
    "\n",
    "train_loader = torch.utils.data.DataLoader(train_dataset, batch_size=batch_size, shuffle=True)\n",
    "test_loader = torch.utils.data.DataLoader(test_dataset, batch_size=batch_size, shuffle=False)"
   ]
  },
  {
   "cell_type": "code",
   "execution_count": 5,
   "id": "0741cd6f",
   "metadata": {},
   "outputs": [],
   "source": [
    "class Network(nn.Module):\n",
    "    def __init__(self):\n",
    "        super(Network, self).__init__()\n",
    "        self.layer1 = nn.Linear(28*28, 512)\n",
    "        self.layer2 = nn.Linear(512, 10)\n",
    "\n",
    "    def forward(self, x):\n",
    "        x = x.view(-1, 28*28) # Flatten the image\n",
    "        x = F.relu(self.layer1(x)) # ReLU activation\n",
    "        x = self.layer2(x)\n",
    "        return x"
   ]
  },
  {
   "cell_type": "code",
   "execution_count": 6,
   "id": "afb1b537",
   "metadata": {},
   "outputs": [],
   "source": [
    "device = torch.device(\"cuda\" if torch.cuda.is_available() else \"cpu\")\n",
    "model = Network().to(device)\n",
    "\n",
    "criterion = nn.CrossEntropyLoss()\n",
    "optimizer = optim.SGD(model.parameters(), lr=learning_rate)"
   ]
  },
  {
   "cell_type": "code",
   "execution_count": 7,
   "id": "e169c883",
   "metadata": {},
   "outputs": [],
   "source": [
    "def accuracy(outputs, labels):\n",
    "    _, preds = torch.max(outputs, 1)\n",
    "    return torch.sum(preds == labels).item() / len(labels)\n",
    "\n",
    "def train(model, device, train_loader, criterion, optimizer, epoch):\n",
    "    model.train()\n",
    "    running_loss = 0.0\n",
    "    running_acc = 0.0\n",
    "    for i, (inputs, labels) in enumerate(train_loader):\n",
    "        inputs, labels = inputs.to(device), labels.to(device)\n",
    "        optimizer.zero_grad()\n",
    "        outputs = model(inputs)\n",
    "        loss = criterion(outputs, labels)\n",
    "        loss.backward()\n",
    "        optimizer.step()\n",
    "\n",
    "        running_loss += loss.item()\n",
    "        running_acc += accuracy(outputs, labels)\n",
    "        if (i + 1) % 200 == 0:\n",
    "            print(f'Epoch {epoch}, Batch {i+1}, Loss: {running_loss / 200:.4f}, Accuracy: {running_acc / 200:.4f}')\n",
    "            running_loss = 0.0\n",
    "            running_acc = 0.0\n",
    "\n",
    "def test(model, device, test_loader, criterion):\n",
    "    model.eval()\n",
    "    test_loss = 0.0\n",
    "    test_acc = 0.0\n",
    "    with torch.no_grad():\n",
    "        for inputs, labels in test_loader:\n",
    "            inputs, labels = inputs.to(device), labels.to(device)\n",
    "            outputs = model(inputs)\n",
    "            loss = criterion(outputs, labels)\n",
    "            test_loss += loss.item()\n",
    "            test_acc += accuracy(outputs, labels)\n",
    "    print(f'Test Loss: {test_loss / len(test_loader):.4f}, Test Accuracy: {test_acc / len(test_loader):.4f}')"
   ]
  },
  {
   "cell_type": "code",
   "execution_count": 8,
   "id": "98a178bb",
   "metadata": {},
   "outputs": [
    {
     "name": "stdout",
     "output_type": "stream",
     "text": [
      "Epoch 1, Batch 200, Loss: 1.0988, Accuracy: 0.7607\n",
      "Epoch 1, Batch 400, Loss: 0.4896, Accuracy: 0.8759\n",
      "Epoch 1, Batch 600, Loss: 0.3944, Accuracy: 0.8926\n",
      "Epoch 1, Batch 800, Loss: 0.3541, Accuracy: 0.9015\n",
      "Test Loss: 0.3101, Test Accuracy: 0.9120\n",
      "Epoch 2, Batch 200, Loss: 0.3141, Accuracy: 0.9095\n",
      "Epoch 2, Batch 400, Loss: 0.2990, Accuracy: 0.9160\n",
      "Epoch 2, Batch 600, Loss: 0.2817, Accuracy: 0.9177\n",
      "Epoch 2, Batch 800, Loss: 0.2705, Accuracy: 0.9252\n",
      "Test Loss: 0.2506, Test Accuracy: 0.9315\n",
      "Epoch 3, Batch 200, Loss: 0.2462, Accuracy: 0.9319\n",
      "Epoch 3, Batch 400, Loss: 0.2390, Accuracy: 0.9319\n",
      "Epoch 3, Batch 600, Loss: 0.2412, Accuracy: 0.9337\n",
      "Epoch 3, Batch 800, Loss: 0.2342, Accuracy: 0.9345\n",
      "Test Loss: 0.2119, Test Accuracy: 0.9406\n",
      "Epoch 4, Batch 200, Loss: 0.2210, Accuracy: 0.9383\n",
      "Epoch 4, Batch 400, Loss: 0.2038, Accuracy: 0.9427\n",
      "Epoch 4, Batch 600, Loss: 0.1992, Accuracy: 0.9451\n",
      "Epoch 4, Batch 800, Loss: 0.1973, Accuracy: 0.9437\n",
      "Test Loss: 0.1872, Test Accuracy: 0.9468\n",
      "Epoch 5, Batch 200, Loss: 0.1879, Accuracy: 0.9480\n",
      "Epoch 5, Batch 400, Loss: 0.1776, Accuracy: 0.9500\n",
      "Epoch 5, Batch 600, Loss: 0.1758, Accuracy: 0.9524\n",
      "Epoch 5, Batch 800, Loss: 0.1868, Accuracy: 0.9477\n",
      "Test Loss: 0.1674, Test Accuracy: 0.9522\n",
      "Epoch 6, Batch 200, Loss: 0.1666, Accuracy: 0.9542\n",
      "Epoch 6, Batch 400, Loss: 0.1555, Accuracy: 0.9573\n",
      "Epoch 6, Batch 600, Loss: 0.1624, Accuracy: 0.9538\n",
      "Epoch 6, Batch 800, Loss: 0.1596, Accuracy: 0.9548\n",
      "Test Loss: 0.1530, Test Accuracy: 0.9560\n",
      "Epoch 7, Batch 200, Loss: 0.1441, Accuracy: 0.9607\n",
      "Epoch 7, Batch 400, Loss: 0.1419, Accuracy: 0.9598\n",
      "Epoch 7, Batch 600, Loss: 0.1510, Accuracy: 0.9587\n",
      "Epoch 7, Batch 800, Loss: 0.1378, Accuracy: 0.9612\n",
      "Test Loss: 0.1413, Test Accuracy: 0.9592\n",
      "Epoch 8, Batch 200, Loss: 0.1325, Accuracy: 0.9634\n",
      "Epoch 8, Batch 400, Loss: 0.1414, Accuracy: 0.9616\n",
      "Epoch 8, Batch 600, Loss: 0.1329, Accuracy: 0.9648\n",
      "Epoch 8, Batch 800, Loss: 0.1248, Accuracy: 0.9658\n",
      "Test Loss: 0.1316, Test Accuracy: 0.9614\n",
      "Epoch 9, Batch 200, Loss: 0.1251, Accuracy: 0.9666\n",
      "Epoch 9, Batch 400, Loss: 0.1239, Accuracy: 0.9654\n",
      "Epoch 9, Batch 600, Loss: 0.1162, Accuracy: 0.9680\n",
      "Epoch 9, Batch 800, Loss: 0.1213, Accuracy: 0.9662\n",
      "Test Loss: 0.1227, Test Accuracy: 0.9645\n",
      "Epoch 10, Batch 200, Loss: 0.1126, Accuracy: 0.9705\n",
      "Epoch 10, Batch 400, Loss: 0.1148, Accuracy: 0.9695\n",
      "Epoch 10, Batch 600, Loss: 0.1164, Accuracy: 0.9667\n",
      "Epoch 10, Batch 800, Loss: 0.1105, Accuracy: 0.9695\n",
      "Test Loss: 0.1140, Test Accuracy: 0.9666\n"
     ]
    },
    {
     "data": {
      "image/png": "[encoded data removed]",
      "text/plain": [
       "<Figure size 800x800 with 9 Axes>"
      ]
     },
     "metadata": {},
     "output_type": "display_data"
    }
   ],
   "source": [
    "for epoch in range(1, num_epochs + 1):\n",
    "    train(model, device, train_loader, criterion, optimizer, epoch)\n",
    "    test(model, device, test_loader, criterion)\n",
    "\n",
    "# Visualize sample images with predictions\n",
    "samples, labels = next(iter(test_loader))\n",
    "samples = samples.to(device)\n",
    "outputs = model(samples)\n",
    "_, preds = torch.max(outputs, 1)\n",
    "\n",
    "samples = samples.cpu().numpy()\n",
    "fig, axes = plt.subplots(3, 3, figsize=(8, 8))\n",
    "for i, ax in enumerate(axes.ravel()):\n",
    "    ax.imshow(samples[i].squeeze(), cmap='gray')\n",
    "    ax.set_title(f'Label: {labels[i]}, Prediction: {preds[i]}')\n",
    "    ax.axis('off')\n",
    "plt.tight_layout()\n",
    "plt.show()"
   ]
  }
 ],
 "metadata": {
  "kernelspec": {
   "display_name": "Python 3",
   "language": "python",
   "name": "python3"
  },
  "language_info": {
   "codemirror_mode": {
    "name": "ipython",
    "version": 3
   },
   "file_extension": ".py",
   "mimetype": "text/x-python",
   "name": "python",
   "nbconvert_exporter": "python",
   "pygments_lexer": "ipython3",
   "version": "3.11.6"
  }
 },
 "nbformat": 4,
 "nbformat_minor": 5
}

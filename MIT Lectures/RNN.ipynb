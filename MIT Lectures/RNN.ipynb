{
 "cells": [
  {
   "cell_type": "code",
   "execution_count": 1,
   "id": "8573fcbb",
   "metadata": {},
   "outputs": [
    {
     "name": "stdout",
     "output_type": "stream",
     "text": [
      "Input shape: torch.Size([4, 5, 10])\n",
      "Output shape: torch.Size([4, 1])\n"
     ]
    }
   ],
   "source": [
    "import torch\n",
    "import torch.nn as nn\n",
    "\n",
    "class SimpleRNN(nn.Module):\n",
    "    def __init__(self, input_size, hidden_size, output_size, num_layers=1):\n",
    "        super(SimpleRNN, self).__init__()\n",
    "        self.hidden_size = hidden_size\n",
    "        self.num_layers = num_layers\n",
    "\n",
    "        # Define the RNN layer\n",
    "        # batch_first=True means input/output tensors will have (batch, sequence, feature) shape\n",
    "        self.rnn = nn.RNN(input_size, hidden_size, num_layers, batch_first=True)\n",
    "\n",
    "        # Define a linear layer to map the hidden state to the output\n",
    "        self.fc = nn.Linear(hidden_size, output_size)\n",
    "\n",
    "    def forward(self, x):\n",
    "        # Initialize hidden state with zeros\n",
    "        # hidden_state shape: (num_layers * num_directions, batch_size, hidden_size)\n",
    "        h0 = torch.zeros(self.num_layers, x.size(0), self.hidden_size).to(x.device)\n",
    "\n",
    "        # Pass input through the RNN layer\n",
    "        # out: output features from the last layer of the RNN for each time step\n",
    "        # hn: hidden state for the last time step\n",
    "        out, hn = self.rnn(x, h0)\n",
    "\n",
    "        # Pass the output of the last time step through the linear layer\n",
    "        # out[:, -1, :] selects the output of the last time step for all batches\n",
    "        out = self.fc(out[:, -1, :])\n",
    "        return out\n",
    "\n",
    "# Example Usage\n",
    "if __name__ == '__main__':\n",
    "    # Hyperparameters\n",
    "    input_size = 10  # Number of features in each time step\n",
    "    hidden_size = 20 # Size of the hidden state\n",
    "    output_size = 1  # Size of the output (e.g., for regression or binary classification)\n",
    "    num_layers = 1   # Number of stacked RNN layers\n",
    "    sequence_length = 5 # Number of time steps in each sequence\n",
    "    batch_size = 4   # Number of sequences in a batch\n",
    "\n",
    "    # Create a dummy input tensor\n",
    "    # Input shape: (batch_size, sequence_length, input_size)\n",
    "    dummy_input = torch.randn(batch_size, sequence_length, input_size)\n",
    "\n",
    "    # Instantiate the RNN model\n",
    "    model = SimpleRNN(input_size, hidden_size, output_size, num_layers)\n",
    "\n",
    "    # Perform a forward pass\n",
    "    output = model(dummy_input)\n",
    "\n",
    "    print(f\"Input shape: {dummy_input.shape}\")\n",
    "    print(f\"Output shape: {output.shape}\")"
   ]
  }
 ],
 "metadata": {
  "kernelspec": {
   "display_name": "Python 3",
   "language": "python",
   "name": "python3"
  },
  "language_info": {
   "codemirror_mode": {
    "name": "ipython",
    "version": 3
   },
   "file_extension": ".py",
   "mimetype": "text/x-python",
   "name": "python",
   "nbconvert_exporter": "python",
   "pygments_lexer": "ipython3",
   "version": "3.11.6"
  }
 },
 "nbformat": 4,
 "nbformat_minor": 5
}

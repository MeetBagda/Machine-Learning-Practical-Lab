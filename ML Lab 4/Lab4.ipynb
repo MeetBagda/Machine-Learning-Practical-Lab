{
 "cells": [
  {
   "cell_type": "markdown",
   "id": "e5a297ab",
   "metadata": {},
   "source": [
    "<a href='https://www.darshan.ac.in/'> <img src='https://www.darshan.ac.in/Content/media/DU_Logo.svg' width=\"250\" height=\"300\"/></a>\n",
    "<pre>\n",
    "<center><b><h1>Machine Learning - 2301CS621</b></center>\n",
    "<center><b><h1>Meet Bagda - 102</b></center>    \n",
    "<center><b><h1>22010101007</b></center>    \n",
    "<center><b><h1>Lab - 4 - Polynomial Regression</b></center>    \n",
    "<pre>    "
   ]
  },
  {
   "cell_type": "markdown",
   "id": "dd4631cd",
   "metadata": {},
   "source": [
    "# Importing the libraries"
   ]
  },
  {
   "cell_type": "code",
   "execution_count": 217,
   "id": "c41652c5",
   "metadata": {},
   "outputs": [],
   "source": [
    "import pandas as pd\n",
    "import numpy as np\n",
    "import matplotlib.pyplot as plt\n",
    "from sklearn.model_selection import train_test_split\n",
    "from sklearn import linear_model\n",
    "from sklearn.metrics import mean_squared_error\n"
   ]
  },
  {
   "cell_type": "markdown",
   "id": "fd08e5ff",
   "metadata": {},
   "source": [
    "# Importing the libraries"
   ]
  },
  {
   "cell_type": "code",
   "execution_count": null,
   "id": "e3a7dded",
   "metadata": {},
   "outputs": [],
   "source": []
  },
  {
   "cell_type": "code",
   "execution_count": null,
   "id": "f9d8d387",
   "metadata": {},
   "outputs": [],
   "source": []
  },
  {
   "cell_type": "markdown",
   "id": "38780dac",
   "metadata": {},
   "source": [
    "# Plot the data using scatter plot"
   ]
  },
  {
   "cell_type": "code",
   "execution_count": 218,
   "id": "f6586093",
   "metadata": {},
   "outputs": [
    {
     "data": {
      "text/html": [
       "<div>\n",
       "<style scoped>\n",
       "    .dataframe tbody tr th:only-of-type {\n",
       "        vertical-align: middle;\n",
       "    }\n",
       "\n",
       "    .dataframe tbody tr th {\n",
       "        vertical-align: top;\n",
       "    }\n",
       "\n",
       "    .dataframe thead th {\n",
       "        text-align: right;\n",
       "    }\n",
       "</style>\n",
       "<table border=\"1\" class=\"dataframe\">\n",
       "  <thead>\n",
       "    <tr style=\"text-align: right;\">\n",
       "      <th></th>\n",
       "      <th>Position</th>\n",
       "      <th>Level</th>\n",
       "      <th>Salary</th>\n",
       "    </tr>\n",
       "  </thead>\n",
       "  <tbody>\n",
       "    <tr>\n",
       "      <th>0</th>\n",
       "      <td>Business Analyst</td>\n",
       "      <td>1</td>\n",
       "      <td>45000</td>\n",
       "    </tr>\n",
       "    <tr>\n",
       "      <th>1</th>\n",
       "      <td>Junior Consultant</td>\n",
       "      <td>2</td>\n",
       "      <td>50000</td>\n",
       "    </tr>\n",
       "    <tr>\n",
       "      <th>2</th>\n",
       "      <td>Senior Consultant</td>\n",
       "      <td>3</td>\n",
       "      <td>60000</td>\n",
       "    </tr>\n",
       "    <tr>\n",
       "      <th>3</th>\n",
       "      <td>Manager</td>\n",
       "      <td>4</td>\n",
       "      <td>80000</td>\n",
       "    </tr>\n",
       "    <tr>\n",
       "      <th>4</th>\n",
       "      <td>Country Manager</td>\n",
       "      <td>5</td>\n",
       "      <td>110000</td>\n",
       "    </tr>\n",
       "    <tr>\n",
       "      <th>5</th>\n",
       "      <td>Region Manager</td>\n",
       "      <td>6</td>\n",
       "      <td>150000</td>\n",
       "    </tr>\n",
       "    <tr>\n",
       "      <th>6</th>\n",
       "      <td>Partner</td>\n",
       "      <td>7</td>\n",
       "      <td>200000</td>\n",
       "    </tr>\n",
       "    <tr>\n",
       "      <th>7</th>\n",
       "      <td>Senior Partner</td>\n",
       "      <td>8</td>\n",
       "      <td>300000</td>\n",
       "    </tr>\n",
       "    <tr>\n",
       "      <th>8</th>\n",
       "      <td>C-level</td>\n",
       "      <td>9</td>\n",
       "      <td>500000</td>\n",
       "    </tr>\n",
       "    <tr>\n",
       "      <th>9</th>\n",
       "      <td>CEO</td>\n",
       "      <td>10</td>\n",
       "      <td>1000000</td>\n",
       "    </tr>\n",
       "  </tbody>\n",
       "</table>\n",
       "</div>"
      ],
      "text/plain": [
       "            Position  Level   Salary\n",
       "0   Business Analyst      1    45000\n",
       "1  Junior Consultant      2    50000\n",
       "2  Senior Consultant      3    60000\n",
       "3            Manager      4    80000\n",
       "4    Country Manager      5   110000\n",
       "5     Region Manager      6   150000\n",
       "6            Partner      7   200000\n",
       "7     Senior Partner      8   300000\n",
       "8            C-level      9   500000\n",
       "9                CEO     10  1000000"
      ]
     },
     "execution_count": 218,
     "metadata": {},
     "output_type": "execute_result"
    }
   ],
   "source": [
    "df = pd.read_csv('./Position_Salaries.csv')\n",
    "df\n",
    "\n",
    "# position column not needed to add for input"
   ]
  },
  {
   "cell_type": "code",
   "execution_count": 219,
   "id": "5f5b043d",
   "metadata": {},
   "outputs": [
    {
     "data": {
      "text/plain": [
       "<Axes: >"
      ]
     },
     "execution_count": 219,
     "metadata": {},
     "output_type": "execute_result"
    },
    {
     "data": {
      "image/png": "[encoded data removed]",
      "text/plain": [
       "<Figure size 640x480 with 1 Axes>"
      ]
     },
     "metadata": {},
     "output_type": "display_data"
    }
   ],
   "source": [
    "df.plot()"
   ]
  },
  {
   "cell_type": "markdown",
   "id": "b3ad4c9d",
   "metadata": {},
   "source": [
    "# Splitting the dataset into the Training set and Test set"
   ]
  },
  {
   "cell_type": "code",
   "execution_count": 220,
   "id": "6fe88603",
   "metadata": {},
   "outputs": [
    {
     "data": {
      "text/html": [
       "<div>\n",
       "<style scoped>\n",
       "    .dataframe tbody tr th:only-of-type {\n",
       "        vertical-align: middle;\n",
       "    }\n",
       "\n",
       "    .dataframe tbody tr th {\n",
       "        vertical-align: top;\n",
       "    }\n",
       "\n",
       "    .dataframe thead th {\n",
       "        text-align: right;\n",
       "    }\n",
       "</style>\n",
       "<table border=\"1\" class=\"dataframe\">\n",
       "  <thead>\n",
       "    <tr style=\"text-align: right;\">\n",
       "      <th></th>\n",
       "      <th>Level</th>\n",
       "    </tr>\n",
       "  </thead>\n",
       "  <tbody>\n",
       "    <tr>\n",
       "      <th>0</th>\n",
       "      <td>1</td>\n",
       "    </tr>\n",
       "    <tr>\n",
       "      <th>1</th>\n",
       "      <td>2</td>\n",
       "    </tr>\n",
       "    <tr>\n",
       "      <th>2</th>\n",
       "      <td>3</td>\n",
       "    </tr>\n",
       "    <tr>\n",
       "      <th>3</th>\n",
       "      <td>4</td>\n",
       "    </tr>\n",
       "    <tr>\n",
       "      <th>4</th>\n",
       "      <td>5</td>\n",
       "    </tr>\n",
       "    <tr>\n",
       "      <th>5</th>\n",
       "      <td>6</td>\n",
       "    </tr>\n",
       "    <tr>\n",
       "      <th>6</th>\n",
       "      <td>7</td>\n",
       "    </tr>\n",
       "    <tr>\n",
       "      <th>7</th>\n",
       "      <td>8</td>\n",
       "    </tr>\n",
       "    <tr>\n",
       "      <th>8</th>\n",
       "      <td>9</td>\n",
       "    </tr>\n",
       "    <tr>\n",
       "      <th>9</th>\n",
       "      <td>10</td>\n",
       "    </tr>\n",
       "  </tbody>\n",
       "</table>\n",
       "</div>"
      ],
      "text/plain": [
       "   Level\n",
       "0      1\n",
       "1      2\n",
       "2      3\n",
       "3      4\n",
       "4      5\n",
       "5      6\n",
       "6      7\n",
       "7      8\n",
       "8      9\n",
       "9     10"
      ]
     },
     "execution_count": 220,
     "metadata": {},
     "output_type": "execute_result"
    }
   ],
   "source": [
    "X = df.iloc[::,1:2] # it will return dataframe instead of series\n",
    "Y = df['Salary']\n",
    "X"
   ]
  },
  {
   "cell_type": "code",
   "execution_count": 221,
   "id": "e8033cdc",
   "metadata": {},
   "outputs": [
    {
     "data": {
      "text/html": [
       "<div>\n",
       "<style scoped>\n",
       "    .dataframe tbody tr th:only-of-type {\n",
       "        vertical-align: middle;\n",
       "    }\n",
       "\n",
       "    .dataframe tbody tr th {\n",
       "        vertical-align: top;\n",
       "    }\n",
       "\n",
       "    .dataframe thead th {\n",
       "        text-align: right;\n",
       "    }\n",
       "</style>\n",
       "<table border=\"1\" class=\"dataframe\">\n",
       "  <thead>\n",
       "    <tr style=\"text-align: right;\">\n",
       "      <th></th>\n",
       "      <th>Level</th>\n",
       "    </tr>\n",
       "  </thead>\n",
       "  <tbody>\n",
       "    <tr>\n",
       "      <th>1</th>\n",
       "      <td>2</td>\n",
       "    </tr>\n",
       "    <tr>\n",
       "      <th>2</th>\n",
       "      <td>3</td>\n",
       "    </tr>\n",
       "    <tr>\n",
       "      <th>4</th>\n",
       "      <td>5</td>\n",
       "    </tr>\n",
       "    <tr>\n",
       "      <th>8</th>\n",
       "      <td>9</td>\n",
       "    </tr>\n",
       "    <tr>\n",
       "      <th>9</th>\n",
       "      <td>10</td>\n",
       "    </tr>\n",
       "  </tbody>\n",
       "</table>\n",
       "</div>"
      ],
      "text/plain": [
       "   Level\n",
       "1      2\n",
       "2      3\n",
       "4      5\n",
       "8      9\n",
       "9     10"
      ]
     },
     "execution_count": 221,
     "metadata": {},
     "output_type": "execute_result"
    }
   ],
   "source": [
    "X_train,X_test,Y_train,Y_test = train_test_split(X,Y,test_size=0.5,random_state=0)\n",
    "X_test.sort_values(ascending=True,by='Level')"
   ]
  },
  {
   "cell_type": "markdown",
   "id": "991c1d0e",
   "metadata": {},
   "source": [
    "# Fitting Linear Regression to the dataset"
   ]
  },
  {
   "cell_type": "code",
   "execution_count": 222,
   "id": "c8c88275",
   "metadata": {},
   "outputs": [],
   "source": [
    "\n",
    "model = linear_model.LinearRegression()\n"
   ]
  },
  {
   "cell_type": "code",
   "execution_count": 223,
   "id": "345628b1",
   "metadata": {},
   "outputs": [
    {
     "data": {
      "text/html": [
       "<style>#sk-container-id-17 {color: black;}#sk-container-id-17 pre{padding: 0;}#sk-container-id-17 div.sk-toggleable {background-color: white;}#sk-container-id-17 label.sk-toggleable__label {cursor: pointer;display: block;width: 100%;margin-bottom: 0;padding: 0.3em;box-sizing: border-box;text-align: center;}#sk-container-id-17 label.sk-toggleable__label-arrow:before {content: \"▸\";float: left;margin-right: 0.25em;color: #696969;}#sk-container-id-17 label.sk-toggleable__label-arrow:hover:before {color: black;}#sk-container-id-17 div.sk-estimator:hover label.sk-toggleable__label-arrow:before {color: black;}#sk-container-id-17 div.sk-toggleable__content {max-height: 0;max-width: 0;overflow: hidden;text-align: left;background-color: #f0f8ff;}#sk-container-id-17 div.sk-toggleable__content pre {margin: 0.2em;color: black;border-radius: 0.25em;background-color: #f0f8ff;}#sk-container-id-17 input.sk-toggleable__control:checked~div.sk-toggleable__content {max-height: 200px;max-width: 100%;overflow: auto;}#sk-container-id-17 input.sk-toggleable__control:checked~label.sk-toggleable__label-arrow:before {content: \"▾\";}#sk-container-id-17 div.sk-estimator input.sk-toggleable__control:checked~label.sk-toggleable__label {background-color: #d4ebff;}#sk-container-id-17 div.sk-label input.sk-toggleable__control:checked~label.sk-toggleable__label {background-color: #d4ebff;}#sk-container-id-17 input.sk-hidden--visually {border: 0;clip: rect(1px 1px 1px 1px);clip: rect(1px, 1px, 1px, 1px);height: 1px;margin: -1px;overflow: hidden;padding: 0;position: absolute;width: 1px;}#sk-container-id-17 div.sk-estimator {font-family: monospace;background-color: #f0f8ff;border: 1px dotted black;border-radius: 0.25em;box-sizing: border-box;margin-bottom: 0.5em;}#sk-container-id-17 div.sk-estimator:hover {background-color: #d4ebff;}#sk-container-id-17 div.sk-parallel-item::after {content: \"\";width: 100%;border-bottom: 1px solid gray;flex-grow: 1;}#sk-container-id-17 div.sk-label:hover label.sk-toggleable__label {background-color: #d4ebff;}#sk-container-id-17 div.sk-serial::before {content: \"\";position: absolute;border-left: 1px solid gray;box-sizing: border-box;top: 0;bottom: 0;left: 50%;z-index: 0;}#sk-container-id-17 div.sk-serial {display: flex;flex-direction: column;align-items: center;background-color: white;padding-right: 0.2em;padding-left: 0.2em;position: relative;}#sk-container-id-17 div.sk-item {position: relative;z-index: 1;}#sk-container-id-17 div.sk-parallel {display: flex;align-items: stretch;justify-content: center;background-color: white;position: relative;}#sk-container-id-17 div.sk-item::before, #sk-container-id-17 div.sk-parallel-item::before {content: \"\";position: absolute;border-left: 1px solid gray;box-sizing: border-box;top: 0;bottom: 0;left: 50%;z-index: -1;}#sk-container-id-17 div.sk-parallel-item {display: flex;flex-direction: column;z-index: 1;position: relative;background-color: white;}#sk-container-id-17 div.sk-parallel-item:first-child::after {align-self: flex-end;width: 50%;}#sk-container-id-17 div.sk-parallel-item:last-child::after {align-self: flex-start;width: 50%;}#sk-container-id-17 div.sk-parallel-item:only-child::after {width: 0;}#sk-container-id-17 div.sk-dashed-wrapped {border: 1px dashed gray;margin: 0 0.4em 0.5em 0.4em;box-sizing: border-box;padding-bottom: 0.4em;background-color: white;}#sk-container-id-17 div.sk-label label {font-family: monospace;font-weight: bold;display: inline-block;line-height: 1.2em;}#sk-container-id-17 div.sk-label-container {text-align: center;}#sk-container-id-17 div.sk-container {/* jupyter's `normalize.less` sets `[hidden] { display: none; }` but bootstrap.min.css set `[hidden] { display: none !important; }` so we also need the `!important` here to be able to override the default hidden behavior on the sphinx rendered scikit-learn.org. See: https://github.com/scikit-learn/scikit-learn/issues/21755 */display: inline-block !important;position: relative;}#sk-container-id-17 div.sk-text-repr-fallback {display: none;}</style><div id=\"sk-container-id-17\" class=\"sk-top-container\"><div class=\"sk-text-repr-fallback\"><pre>LinearRegression()</pre><b>In a Jupyter environment, please rerun this cell to show the HTML representation or trust the notebook. <br />On GitHub, the HTML representation is unable to render, please try loading this page with nbviewer.org.</b></div><div class=\"sk-container\" hidden><div class=\"sk-item\"><div class=\"sk-estimator sk-toggleable\"><input class=\"sk-toggleable__control sk-hidden--visually\" id=\"sk-estimator-id-17\" type=\"checkbox\" checked><label for=\"sk-estimator-id-17\" class=\"sk-toggleable__label sk-toggleable__label-arrow\">LinearRegression</label><div class=\"sk-toggleable__content\"><pre>LinearRegression()</pre></div></div></div></div></div>"
      ],
      "text/plain": [
       "LinearRegression()"
      ]
     },
     "execution_count": 223,
     "metadata": {},
     "output_type": "execute_result"
    }
   ],
   "source": [
    "model.fit(X_train,Y_train)"
   ]
  },
  {
   "cell_type": "markdown",
   "id": "133e9b43",
   "metadata": {},
   "source": [
    "# Predict the x_test using Linear Model"
   ]
  },
  {
   "cell_type": "code",
   "execution_count": 224,
   "id": "60cdc2f6",
   "metadata": {},
   "outputs": [
    {
     "data": {
      "text/plain": [
       "array([ 81071.42857143, 282694.80519481, 148279.22077922, 316298.7012987 ,\n",
       "        47467.53246753])"
      ]
     },
     "execution_count": 224,
     "metadata": {},
     "output_type": "execute_result"
    }
   ],
   "source": [
    "NewY = model.predict(X_test)\n",
    "NewY"
   ]
  },
  {
   "cell_type": "code",
   "execution_count": 225,
   "id": "c2998924",
   "metadata": {},
   "outputs": [
    {
     "data": {
      "text/plain": [
       "2      60000\n",
       "8     500000\n",
       "4     110000\n",
       "9    1000000\n",
       "1      50000\n",
       "Name: Salary, dtype: int64"
      ]
     },
     "execution_count": 225,
     "metadata": {},
     "output_type": "execute_result"
    }
   ],
   "source": [
    "Y_test"
   ]
  },
  {
   "cell_type": "markdown",
   "id": "884c7829",
   "metadata": {},
   "source": [
    "# Visualising the Linear Regression results"
   ]
  },
  {
   "cell_type": "code",
   "execution_count": 226,
   "id": "40606626",
   "metadata": {},
   "outputs": [
    {
     "data": {
      "text/plain": [
       "[<matplotlib.lines.Line2D at 0x1b3f06ac550>]"
      ]
     },
     "execution_count": 226,
     "metadata": {},
     "output_type": "execute_result"
    },
    {
     "data": {
      "image/png": "[encoded data removed]",
      "text/plain": [
       "<Figure size 640x480 with 1 Axes>"
      ]
     },
     "metadata": {},
     "output_type": "display_data"
    }
   ],
   "source": [
    "plt.scatter(X_test['Level'],Y_test)\n",
    "plt.scatter(X_test['Level'],NewY)\n",
    "plt.plot(X_test['Level'],NewY)\n",
    "\n"
   ]
  },
  {
   "cell_type": "markdown",
   "id": "92a3959a",
   "metadata": {},
   "source": [
    "# Find mean-square-error"
   ]
  },
  {
   "cell_type": "code",
   "execution_count": 227,
   "id": "84eafabe",
   "metadata": {},
   "outputs": [
    {
     "data": {
      "text/plain": [
       "103316946154.49487"
      ]
     },
     "execution_count": 227,
     "metadata": {},
     "output_type": "execute_result"
    }
   ],
   "source": [
    "mean_squared_error(Y_test,NewY)"
   ]
  },
  {
   "cell_type": "markdown",
   "id": "63800383",
   "metadata": {},
   "source": [
    "# Fitting Polynomial Regression to the dataset"
   ]
  },
  {
   "cell_type": "markdown",
   "id": "c49b9f7d",
   "metadata": {},
   "source": [
    "## import  PolynomialFeatures \n",
    "### imp for exam"
   ]
  },
  {
   "cell_type": "code",
   "execution_count": 228,
   "id": "a5630957",
   "metadata": {},
   "outputs": [],
   "source": [
    "from sklearn.preprocessing import PolynomialFeatures"
   ]
  },
  {
   "cell_type": "markdown",
   "id": "d3f6cfab",
   "metadata": {},
   "source": [
    "## create PolynomialFeatures of degree 4"
   ]
  },
  {
   "cell_type": "code",
   "execution_count": 229,
   "id": "aa4c8e10",
   "metadata": {},
   "outputs": [],
   "source": [
    "poly = PolynomialFeatures(degree=4)"
   ]
  },
  {
   "cell_type": "markdown",
   "id": "b3b457e8",
   "metadata": {},
   "source": [
    "## Apply fit_transform to features"
   ]
  },
  {
   "cell_type": "code",
   "execution_count": 230,
   "id": "c64cb186",
   "metadata": {},
   "outputs": [],
   "source": [
    "X_poly = poly.fit_transform(X_train)"
   ]
  },
  {
   "cell_type": "markdown",
   "id": "e9a3be39",
   "metadata": {},
   "source": [
    "## View new  Features"
   ]
  },
  {
   "cell_type": "code",
   "execution_count": 231,
   "id": "21ff0e5f",
   "metadata": {},
   "outputs": [
    {
     "data": {
      "text/plain": [
       "array([[1.000e+00, 7.000e+00, 4.900e+01, 3.430e+02, 2.401e+03],\n",
       "       [1.000e+00, 8.000e+00, 6.400e+01, 5.120e+02, 4.096e+03],\n",
       "       [1.000e+00, 4.000e+00, 1.600e+01, 6.400e+01, 2.560e+02],\n",
       "       [1.000e+00, 1.000e+00, 1.000e+00, 1.000e+00, 1.000e+00],\n",
       "       [1.000e+00, 6.000e+00, 3.600e+01, 2.160e+02, 1.296e+03]])"
      ]
     },
     "execution_count": 231,
     "metadata": {},
     "output_type": "execute_result"
    }
   ],
   "source": [
    "X_poly"
   ]
  },
  {
   "cell_type": "markdown",
   "id": "3b9ada22",
   "metadata": {},
   "source": [
    "## Fitting Polynomial Regression to the dataset"
   ]
  },
  {
   "cell_type": "code",
   "execution_count": 232,
   "id": "83a06faa",
   "metadata": {},
   "outputs": [],
   "source": [
    "model_poly = linear_model.LinearRegression()"
   ]
  },
  {
   "cell_type": "code",
   "execution_count": 233,
   "id": "30af2dbe",
   "metadata": {},
   "outputs": [
    {
     "data": {
      "text/html": [
       "<style>#sk-container-id-18 {color: black;}#sk-container-id-18 pre{padding: 0;}#sk-container-id-18 div.sk-toggleable {background-color: white;}#sk-container-id-18 label.sk-toggleable__label {cursor: pointer;display: block;width: 100%;margin-bottom: 0;padding: 0.3em;box-sizing: border-box;text-align: center;}#sk-container-id-18 label.sk-toggleable__label-arrow:before {content: \"▸\";float: left;margin-right: 0.25em;color: #696969;}#sk-container-id-18 label.sk-toggleable__label-arrow:hover:before {color: black;}#sk-container-id-18 div.sk-estimator:hover label.sk-toggleable__label-arrow:before {color: black;}#sk-container-id-18 div.sk-toggleable__content {max-height: 0;max-width: 0;overflow: hidden;text-align: left;background-color: #f0f8ff;}#sk-container-id-18 div.sk-toggleable__content pre {margin: 0.2em;color: black;border-radius: 0.25em;background-color: #f0f8ff;}#sk-container-id-18 input.sk-toggleable__control:checked~div.sk-toggleable__content {max-height: 200px;max-width: 100%;overflow: auto;}#sk-container-id-18 input.sk-toggleable__control:checked~label.sk-toggleable__label-arrow:before {content: \"▾\";}#sk-container-id-18 div.sk-estimator input.sk-toggleable__control:checked~label.sk-toggleable__label {background-color: #d4ebff;}#sk-container-id-18 div.sk-label input.sk-toggleable__control:checked~label.sk-toggleable__label {background-color: #d4ebff;}#sk-container-id-18 input.sk-hidden--visually {border: 0;clip: rect(1px 1px 1px 1px);clip: rect(1px, 1px, 1px, 1px);height: 1px;margin: -1px;overflow: hidden;padding: 0;position: absolute;width: 1px;}#sk-container-id-18 div.sk-estimator {font-family: monospace;background-color: #f0f8ff;border: 1px dotted black;border-radius: 0.25em;box-sizing: border-box;margin-bottom: 0.5em;}#sk-container-id-18 div.sk-estimator:hover {background-color: #d4ebff;}#sk-container-id-18 div.sk-parallel-item::after {content: \"\";width: 100%;border-bottom: 1px solid gray;flex-grow: 1;}#sk-container-id-18 div.sk-label:hover label.sk-toggleable__label {background-color: #d4ebff;}#sk-container-id-18 div.sk-serial::before {content: \"\";position: absolute;border-left: 1px solid gray;box-sizing: border-box;top: 0;bottom: 0;left: 50%;z-index: 0;}#sk-container-id-18 div.sk-serial {display: flex;flex-direction: column;align-items: center;background-color: white;padding-right: 0.2em;padding-left: 0.2em;position: relative;}#sk-container-id-18 div.sk-item {position: relative;z-index: 1;}#sk-container-id-18 div.sk-parallel {display: flex;align-items: stretch;justify-content: center;background-color: white;position: relative;}#sk-container-id-18 div.sk-item::before, #sk-container-id-18 div.sk-parallel-item::before {content: \"\";position: absolute;border-left: 1px solid gray;box-sizing: border-box;top: 0;bottom: 0;left: 50%;z-index: -1;}#sk-container-id-18 div.sk-parallel-item {display: flex;flex-direction: column;z-index: 1;position: relative;background-color: white;}#sk-container-id-18 div.sk-parallel-item:first-child::after {align-self: flex-end;width: 50%;}#sk-container-id-18 div.sk-parallel-item:last-child::after {align-self: flex-start;width: 50%;}#sk-container-id-18 div.sk-parallel-item:only-child::after {width: 0;}#sk-container-id-18 div.sk-dashed-wrapped {border: 1px dashed gray;margin: 0 0.4em 0.5em 0.4em;box-sizing: border-box;padding-bottom: 0.4em;background-color: white;}#sk-container-id-18 div.sk-label label {font-family: monospace;font-weight: bold;display: inline-block;line-height: 1.2em;}#sk-container-id-18 div.sk-label-container {text-align: center;}#sk-container-id-18 div.sk-container {/* jupyter's `normalize.less` sets `[hidden] { display: none; }` but bootstrap.min.css set `[hidden] { display: none !important; }` so we also need the `!important` here to be able to override the default hidden behavior on the sphinx rendered scikit-learn.org. See: https://github.com/scikit-learn/scikit-learn/issues/21755 */display: inline-block !important;position: relative;}#sk-container-id-18 div.sk-text-repr-fallback {display: none;}</style><div id=\"sk-container-id-18\" class=\"sk-top-container\"><div class=\"sk-text-repr-fallback\"><pre>LinearRegression()</pre><b>In a Jupyter environment, please rerun this cell to show the HTML representation or trust the notebook. <br />On GitHub, the HTML representation is unable to render, please try loading this page with nbviewer.org.</b></div><div class=\"sk-container\" hidden><div class=\"sk-item\"><div class=\"sk-estimator sk-toggleable\"><input class=\"sk-toggleable__control sk-hidden--visually\" id=\"sk-estimator-id-18\" type=\"checkbox\" checked><label for=\"sk-estimator-id-18\" class=\"sk-toggleable__label sk-toggleable__label-arrow\">LinearRegression</label><div class=\"sk-toggleable__content\"><pre>LinearRegression()</pre></div></div></div></div></div>"
      ],
      "text/plain": [
       "LinearRegression()"
      ]
     },
     "execution_count": 233,
     "metadata": {},
     "output_type": "execute_result"
    }
   ],
   "source": [
    "model_poly.fit(X_poly,Y_train)"
   ]
  },
  {
   "cell_type": "markdown",
   "id": "d03d4306",
   "metadata": {},
   "source": [
    "# Create Grid for higher resolution and smoother curve"
   ]
  },
  {
   "cell_type": "code",
   "execution_count": 234,
   "id": "c9b4757a",
   "metadata": {},
   "outputs": [
    {
     "data": {
      "text/plain": [
       "array([[ 1. ],\n",
       "       [ 1.1],\n",
       "       [ 1.2],\n",
       "       [ 1.3],\n",
       "       [ 1.4],\n",
       "       [ 1.5],\n",
       "       [ 1.6],\n",
       "       [ 1.7],\n",
       "       [ 1.8],\n",
       "       [ 1.9],\n",
       "       [ 2. ],\n",
       "       [ 2.1],\n",
       "       [ 2.2],\n",
       "       [ 2.3],\n",
       "       [ 2.4],\n",
       "       [ 2.5],\n",
       "       [ 2.6],\n",
       "       [ 2.7],\n",
       "       [ 2.8],\n",
       "       [ 2.9],\n",
       "       [ 3. ],\n",
       "       [ 3.1],\n",
       "       [ 3.2],\n",
       "       [ 3.3],\n",
       "       [ 3.4],\n",
       "       [ 3.5],\n",
       "       [ 3.6],\n",
       "       [ 3.7],\n",
       "       [ 3.8],\n",
       "       [ 3.9],\n",
       "       [ 4. ],\n",
       "       [ 4.1],\n",
       "       [ 4.2],\n",
       "       [ 4.3],\n",
       "       [ 4.4],\n",
       "       [ 4.5],\n",
       "       [ 4.6],\n",
       "       [ 4.7],\n",
       "       [ 4.8],\n",
       "       [ 4.9],\n",
       "       [ 5. ],\n",
       "       [ 5.1],\n",
       "       [ 5.2],\n",
       "       [ 5.3],\n",
       "       [ 5.4],\n",
       "       [ 5.5],\n",
       "       [ 5.6],\n",
       "       [ 5.7],\n",
       "       [ 5.8],\n",
       "       [ 5.9],\n",
       "       [ 6. ],\n",
       "       [ 6.1],\n",
       "       [ 6.2],\n",
       "       [ 6.3],\n",
       "       [ 6.4],\n",
       "       [ 6.5],\n",
       "       [ 6.6],\n",
       "       [ 6.7],\n",
       "       [ 6.8],\n",
       "       [ 6.9],\n",
       "       [ 7. ],\n",
       "       [ 7.1],\n",
       "       [ 7.2],\n",
       "       [ 7.3],\n",
       "       [ 7.4],\n",
       "       [ 7.5],\n",
       "       [ 7.6],\n",
       "       [ 7.7],\n",
       "       [ 7.8],\n",
       "       [ 7.9],\n",
       "       [ 8. ],\n",
       "       [ 8.1],\n",
       "       [ 8.2],\n",
       "       [ 8.3],\n",
       "       [ 8.4],\n",
       "       [ 8.5],\n",
       "       [ 8.6],\n",
       "       [ 8.7],\n",
       "       [ 8.8],\n",
       "       [ 8.9],\n",
       "       [ 9. ],\n",
       "       [ 9.1],\n",
       "       [ 9.2],\n",
       "       [ 9.3],\n",
       "       [ 9.4],\n",
       "       [ 9.5],\n",
       "       [ 9.6],\n",
       "       [ 9.7],\n",
       "       [ 9.8],\n",
       "       [ 9.9],\n",
       "       [10. ],\n",
       "       [10.1],\n",
       "       [10.2],\n",
       "       [10.3],\n",
       "       [10.4],\n",
       "       [10.5],\n",
       "       [10.6],\n",
       "       [10.7],\n",
       "       [10.8],\n",
       "       [10.9]])"
      ]
     },
     "execution_count": 234,
     "metadata": {},
     "output_type": "execute_result"
    }
   ],
   "source": [
    "x2 = np.arange(1,11,0.1).reshape(-1,1)\n",
    "x2"
   ]
  },
  {
   "cell_type": "code",
   "execution_count": 235,
   "id": "2d2f1480",
   "metadata": {},
   "outputs": [
    {
     "data": {
      "text/plain": [
       "array([  44999.99999999,   38970.31666664,   33857.06666662,\n",
       "         29603.79285708,   26155.73333326,   23459.82142848,\n",
       "         21464.68571419,   20120.6499999 ,   19379.73333323,\n",
       "         19195.64999989,   19523.8095237 ,   20321.31666656,\n",
       "         21546.97142846,   23161.26904751,   25126.3999999 ,\n",
       "         27406.2499999 ,   29966.39999991,   32774.12619039,\n",
       "         35798.39999992,   39009.88809517,   42380.95238089,\n",
       "         45885.64999994,   49499.73333328,   53200.64999996,\n",
       "         56967.54285711,   60781.24999997,   64624.30476188,\n",
       "         68480.93571427,   72337.06666666,   76180.31666666,\n",
       "         80000.        ,   83787.12619048,   87534.40000001,\n",
       "         91236.22142859,   94888.6857143 ,   98489.58333335,\n",
       "        102038.40000002,  105536.31666669,  108986.20952384,\n",
       "        112392.65000003,  115761.90476193,  119101.93571431,\n",
       "        122422.40000002,  125734.65000002,  129051.73333335,\n",
       "        132388.39285716,  135761.06666668,  139187.88809525,\n",
       "        142688.68571429,  146284.98333334,  150000.        ,\n",
       "        153858.65      ,  157887.54285713,  162114.98333332,\n",
       "        166570.97142856,  171287.20238093,  176297.06666664,\n",
       "        181635.64999997,  187339.73333331,  193447.79285711,\n",
       "        199999.99999997,  207038.22142854,  214606.01904759,\n",
       "        222748.64999998,  231513.06666664,  240947.91666665,\n",
       "        251103.54285713,  262031.98333333,  273786.97142858,\n",
       "        286423.93571431,  300000.00000004,  314573.98333339,\n",
       "        330206.40000008,  346959.45952391,  364897.0666668 ,\n",
       "        384084.82142873,  404590.01904782,  426481.65000023,\n",
       "        449830.40000028,  474708.65000032,  501190.47619085,\n",
       "        529351.65000043,  559269.63809573,  591023.6023815 ,\n",
       "        624694.40000062,  660364.58333403,  698118.40000078,\n",
       "        738041.79285802,  780222.40000097,  824749.55476298,\n",
       "        871714.28571547,  921209.31666797,  973329.06666809,\n",
       "       1028169.65000156, 1085828.87619217, 1146406.25000185,\n",
       "       1210002.97143058, 1276721.93571646, 1346667.73333569,\n",
       "       1419946.65000254])"
      ]
     },
     "execution_count": 235,
     "metadata": {},
     "output_type": "execute_result"
    }
   ],
   "source": [
    "smoothY = model_poly.predict(poly.fit_transform(x2))\n",
    "smoothY"
   ]
  },
  {
   "cell_type": "markdown",
   "id": "c6530b33",
   "metadata": {},
   "source": [
    "# Predict the x_test using Polynomial Regression"
   ]
  },
  {
   "cell_type": "code",
   "execution_count": 236,
   "id": "328654a4",
   "metadata": {},
   "outputs": [
    {
     "data": {
      "text/plain": [
       "array([ 42380.95238089, 501190.47619085, 115761.90476193, 871714.28571546,\n",
       "        19523.8095237 ])"
      ]
     },
     "execution_count": 236,
     "metadata": {},
     "output_type": "execute_result"
    }
   ],
   "source": [
    "y_poly_predict=model_poly.predict(poly.fit_transform(X_test))\n",
    "y_poly_predict"
   ]
  },
  {
   "cell_type": "code",
   "execution_count": null,
   "id": "8433d061",
   "metadata": {},
   "outputs": [],
   "source": []
  },
  {
   "cell_type": "markdown",
   "id": "6a2051bc",
   "metadata": {},
   "source": [
    "# Visualising the Linear Regression results"
   ]
  },
  {
   "cell_type": "code",
   "execution_count": 237,
   "id": "9fb82446",
   "metadata": {},
   "outputs": [
    {
     "data": {
      "text/plain": [
       "[<matplotlib.lines.Line2D at 0x1b3f0724750>]"
      ]
     },
     "execution_count": 237,
     "metadata": {},
     "output_type": "execute_result"
    },
    {
     "data": {
      "image/png": "[encoded data removed]",
      "text/plain": [
       "<Figure size 640x480 with 1 Axes>"
      ]
     },
     "metadata": {},
     "output_type": "display_data"
    }
   ],
   "source": [
    "plt.scatter(X,Y)\n",
    "plt.plot(X_test,y_poly_predict)\n",
    "plt.plot(X_test,NewY)\n"
   ]
  },
  {
   "cell_type": "code",
   "execution_count": 238,
   "id": "d21c2f18",
   "metadata": {},
   "outputs": [],
   "source": [
    "y_all = model_poly.predict(poly.fit_transform(X))"
   ]
  },
  {
   "cell_type": "code",
   "execution_count": 239,
   "id": "a40350b3",
   "metadata": {},
   "outputs": [
    {
     "data": {
      "text/plain": [
       "[<matplotlib.lines.Line2D at 0x1b3f04add90>]"
      ]
     },
     "execution_count": 239,
     "metadata": {},
     "output_type": "execute_result"
    },
    {
     "data": {
      "image/png": "[encoded data removed]",
      "text/plain": [
       "<Figure size 640x480 with 1 Axes>"
      ]
     },
     "metadata": {},
     "output_type": "display_data"
    }
   ],
   "source": [
    "plt.scatter(X,Y)\n",
    "plt.plot(x2,smoothY)"
   ]
  },
  {
   "cell_type": "code",
   "execution_count": null,
   "id": "60052bc7",
   "metadata": {},
   "outputs": [],
   "source": []
  },
  {
   "cell_type": "code",
   "execution_count": 242,
   "id": "2ecb4628",
   "metadata": {},
   "outputs": [],
   "source": [
    "from sklearn.metrics import r2_score"
   ]
  },
  {
   "cell_type": "code",
   "execution_count": 244,
   "id": "9ea0e0cd",
   "metadata": {},
   "outputs": [
    {
     "data": {
      "text/plain": [
       "0.9737907670216805"
      ]
     },
     "execution_count": 244,
     "metadata": {},
     "output_type": "execute_result"
    }
   ],
   "source": [
    "r2_score(Y_test,y_poly_predict)"
   ]
  },
  {
   "cell_type": "code",
   "execution_count": null,
   "id": "e6d3a08f",
   "metadata": {},
   "outputs": [],
   "source": []
  },
  {
   "cell_type": "code",
   "execution_count": null,
   "id": "435b79d5",
   "metadata": {},
   "outputs": [],
   "source": []
  }
 ],
 "metadata": {
  "kernelspec": {
   "display_name": "base",
   "language": "python",
   "name": "python3"
  },
  "language_info": {
   "codemirror_mode": {
    "name": "ipython",
    "version": 3
   },
   "file_extension": ".py",
   "mimetype": "text/x-python",
   "name": "python",
   "nbconvert_exporter": "python",
   "pygments_lexer": "ipython3",
   "version": "3.11.5"
  }
 },
 "nbformat": 4,
 "nbformat_minor": 5
}
